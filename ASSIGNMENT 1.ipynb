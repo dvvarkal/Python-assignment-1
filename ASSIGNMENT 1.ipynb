{
 "cells": [
  {
   "cell_type": "code",
   "execution_count": null,
   "id": "92eaa3a9-a877-47c9-9aac-905b8bb98c5e",
   "metadata": {},
   "outputs": [],
   "source": [
    "ANS.(1) GUIDO VAN ROSSUM."
   ]
  },
  {
   "cell_type": "code",
   "execution_count": null,
   "id": "0b3974b2-d477-4056-a346-6361d08cc9d8",
   "metadata": {},
   "outputs": [],
   "source": [
    "ANS.(2) Object oriented programming and structured programming."
   ]
  },
  {
   "cell_type": "code",
   "execution_count": null,
   "id": "daa9c0d0-a863-4be8-b74d-9cf36a188bfc",
   "metadata": {},
   "outputs": [],
   "source": [
    "ANS.(3) YES"
   ]
  },
  {
   "cell_type": "code",
   "execution_count": null,
   "id": "d2b579d7-d439-4f3c-9b58-ca0f5b053849",
   "metadata": {},
   "outputs": [],
   "source": [
    "ANS.(4) .py"
   ]
  },
  {
   "cell_type": "code",
   "execution_count": null,
   "id": "c2c83519-e855-4ba4-8250-b8ff5b2da663",
   "metadata": {},
   "outputs": [],
   "source": [
    "ANS.(5) Interpreted "
   ]
  },
  {
   "cell_type": "code",
   "execution_count": null,
   "id": "16e4705a-e7d8-4bd2-8b09-7490bc36b18e",
   "metadata": {},
   "outputs": [],
   "source": [
    "ANS.(6) variables,identifiers,data types,comments,operatos,expressions,statemeants,functions,classes"
   ]
  },
  {
   "cell_type": "code",
   "execution_count": null,
   "id": "8c5d67d1-f3b3-43cd-9970-0e707ad0a80c",
   "metadata": {},
   "outputs": [],
   "source": [
    "ANS.(7) #"
   ]
  },
  {
   "cell_type": "code",
   "execution_count": null,
   "id": "c25e79ed-1ff6-42b2-b6ea-0fc72cee45f3",
   "metadata": {},
   "outputs": [],
   "source": [
    "ANS.(8) sys. version"
   ]
  },
  {
   "cell_type": "code",
   "execution_count": null,
   "id": "38171af9-54d4-4432-a42e-35ca86c697b3",
   "metadata": {},
   "outputs": [],
   "source": [
    "ANS.(9) Lambda"
   ]
  },
  {
   "cell_type": "code",
   "execution_count": null,
   "id": "630883b7-34f7-4eff-afe7-e0c898a65a4a",
   "metadata": {},
   "outputs": [],
   "source": [
    "ANS.(10) pip stands for \"Pip Installs Packages\". \n",
    "It is a package manager for Python that allows you to easily install, upgrade, and remove Python packages and their dependencies."
   ]
  },
  {
   "cell_type": "code",
   "execution_count": null,
   "id": "ebee9f41-1eb7-4298-a1ba-d49cabfcadec",
   "metadata": {},
   "outputs": [],
   "source": [
    "ANS.(11) list(),tuple(),str(),bool(),sum(),slice()"
   ]
  },
  {
   "cell_type": "code",
   "execution_count": null,
   "id": "c0c605cf-d859-4dfa-9e84-7cb6cd82b714",
   "metadata": {},
   "outputs": [],
   "source": [
    "ANS.(12) 79 characters"
   ]
  },
  {
   "cell_type": "code",
   "execution_count": null,
   "id": "1b7b485c-2062-431b-a03a-edeccc6a70e9",
   "metadata": {},
   "outputs": [],
   "source": [
    "ANS.(13) Easy-to-learn and Easy-to-use,\n",
    "         Improves Productivity,\n",
    "         Interpreted Language,\n",
    "         Open-source,\n",
    "        Easily Portable,\n",
    "         Massive Libraries,\n",
    "        Easy-to-integrate with Other Programming Languages   "
   ]
  },
  {
   "cell_type": "code",
   "execution_count": null,
   "id": "5030ad45-2e39-4280-945d-da73a4abeeee",
   "metadata": {},
   "outputs": [],
   "source": [
    "ANS.(14)Memory management in Python involves a private heap containing all Python objects and data structures.\n",
    "The management of this private heap is ensured internally by the Python memory manager."
   ]
  },
  {
   "cell_type": "code",
   "execution_count": null,
   "id": "01a48663-3da7-438a-84f3-4ba37a1a3f99",
   "metadata": {},
   "outputs": [],
   "source": [
    "ANS.(15) 1.Installing Python from Python.org\n",
    "         2.Add Python to the windows 10 environment variable path\n",
    "         3.Upgrade pip to be able to install Python modules\n",
    "        "
   ]
  }
 ],
 "metadata": {
  "kernelspec": {
   "display_name": "Python 3 (ipykernel)",
   "language": "python",
   "name": "python3"
  },
  "language_info": {
   "codemirror_mode": {
    "name": "ipython",
    "version": 3
   },
   "file_extension": ".py",
   "mimetype": "text/x-python",
   "name": "python",
   "nbconvert_exporter": "python",
   "pygments_lexer": "ipython3",
   "version": "3.10.8"
  }
 },
 "nbformat": 4,
 "nbformat_minor": 5
}
